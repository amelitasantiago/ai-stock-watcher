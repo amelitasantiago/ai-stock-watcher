{
  "cells": [
    {
      "cell_type": "markdown",
      "metadata": {},
      "source": [
        "# Sentiment-Enhanced Baseline (last 30 days overlap)\n",
        "\n",
        "This notebook adds **news sentiment** to your price-only baseline for the **overlapping period** you have news for (e.g., last 30 days).\n",
        "\n",
        "We will:\n",
        "1. Load `adj_close_wide.parquet` and compute returns.\n",
        "2. Load `daily_sentiment_last_30d.parquet` (from your local aggregation) and align it to business days.\n",
        "3. Build a feature set: lagged returns + sentiment features (same-day, 7-day, 14-day).\n",
        "4. Train/test split and compare **Ridge (price-only)** vs **Ridge (price + sentiment)** on the **same dates**.\n",
        "5. Save the sentiment-enhanced model artifacts.\n",
        "\n",
        "**Note**: News APIs often give ~30 days of history on entry plans; so this notebook focuses on that window to show the *incremental value* of sentiment."
      ]
    },
    {
      "cell_type": "code",
      "execution_count": null,
      "metadata": {
        "cellView": "form"
      },
      "source": [
        "#@title 0) Setup\n",
        "!pip -q install pandas pyarrow scikit-learn joblib matplotlib --upgrade\n",
        "import pandas as pd, numpy as np, os, json\n",
        "from pathlib import Path\n",
        "from sklearn.linear_model import Ridge\n",
        "from sklearn.pipeline import Pipeline\n",
        "from sklearn.preprocessing import StandardScaler\n",
        "from sklearn.metrics import mean_squared_error, mean_absolute_error\n",
        "import joblib\n",
        "import matplotlib.pyplot as plt\n",
        "print('Setup complete.')"
      ]
    },
    {
      "cell_type": "code",
      "execution_count": null,
      "metadata": {
        "cellView": "form"
      },
      "source": [
        "#@title 1) Inputs and parameters\n",
        "ADJ_CLOSE_WIDE = \"/content/drive/MyDrive/ai_stock_watcher/data/curated/adj_close_wide.parquet\"  #@param {type:\"string\"}\n",
        "DAILY_SENT_30D = \"/content/drive/MyDrive/ai_stock_watcher/data/curated/daily_sentiment_last_30d.parquet\"  #@param {type:\"string\"}\n",
        "TARGET_TICKER = \"AAPL\"  #@param {type:\"string\"}\n",
        "LAGS = 20  #@param {type:\"integer\"}\n",
        "TEST_SPLIT_FRACTION = 0.2  #@param {type:\"number\"}\n",
        "ART_DIR = \"/content/drive/MyDrive/ai_stock_watcher/artifacts\"  #@param {type:\"string\"}\n",
        "Path(ART_DIR).mkdir(parents=True, exist_ok=True)\n",
        "print('ART_DIR =', ART_DIR)"
      ]
    },
    {
      "cell_type": "code",
      "execution_count": null,
      "metadata": {
        "cellView": "form"
      },
      "source": [
        "#@title 2) Load prices (5y) \u2192 returns; load daily sentiment (30d)\n",
        "prices = pd.read_parquet(ADJ_CLOSE_WIDE).sort_index().asfreq('B')\n",
        "if TARGET_TICKER not in prices.columns:\n",
        "    raise ValueError(f\"{TARGET_TICKER} not found in adj_close_wide.parquet columns.\")\n",
        "rets = prices.pct_change()\n",
        "target_ret = rets[[TARGET_TICKER]].rename(columns={TARGET_TICKER: 'ret'})\n",
        "\n",
        "sent = pd.read_parquet(DAILY_SENT_30D)\n",
        "if sent.empty:\n",
        "    raise SystemExit(\"daily_sentiment_last_30d.parquet is empty. Run your local aggregation first.\")\n",
        "sent['date'] = pd.to_datetime(sent['date'])\n",
        "sent_t = sent[sent['ticker'] == TARGET_TICKER].copy()\n",
        "if sent_t.empty:\n",
        "    raise SystemExit(f\"No sentiment rows for {TARGET_TICKER}.\")\n",
        "sent_t = sent_t.set_index('date').sort_index()\n",
        "sent_t = sent_t.asfreq('B')  # business days\n",
        "sent_t['sent'] = sent_t['sent'].fillna(0.0)\n",
        "sent_t['sent_ma7'] = sent_t['sent'].rolling(7, min_periods=1).mean()\n",
        "sent_t['sent_ma14'] = sent_t['sent'].rolling(14, min_periods=1).mean()\n",
        "\n",
        "display(target_ret.tail())\n",
        "display(sent_t.tail())"
      ]
    },
    {
      "cell_type": "code",
      "execution_count": null,
      "metadata": {
        "cellView": "form"
      },
      "source": [
        "#@title 3) Build aligned feature frame on the overlapping dates\n",
        "def make_lagged(y: pd.Series, lags:int) -> pd.DataFrame:\n",
        "    df = pd.DataFrame({\"y\": y})\n",
        "    for k in range(1, lags+1):\n",
        "        df[f\"lag_{k}\"] = df['y'].shift(k)\n",
        "    return df\n",
        "\n",
        "# Align by index: start with returns, then join sentiment\n",
        "df = make_lagged(target_ret['ret'], LAGS)\n",
        "df = df.join(sent_t[['sent','sent_ma7','sent_ma14']], how='left')\n",
        "df[['sent','sent_ma7','sent_ma14']] = df[['sent','sent_ma7','sent_ma14']].fillna(0.0)\n",
        "df = df.dropna(subset=[f'lag_{LAGS}'])\n",
        "\n",
        "# Predict next-day return (shift target by -1)\n",
        "y_next = df['y'].shift(-1).dropna()\n",
        "X_all = df.drop(columns=['y']).iloc[:-1]\n",
        "assert len(X_all) == len(y_next)\n",
        "\n",
        "# Price-only view on same rows\n",
        "X_price_only = X_all.filter(like='lag_')\n",
        "X_with_sent = X_all.copy()\n",
        "\n",
        "print('Rows available for comparison:', len(X_with_sent))\n",
        "display(X_with_sent.tail())"
      ]
    },
    {
      "cell_type": "code",
      "execution_count": null,
      "metadata": {
        "cellView": "form"
      },
      "source": [
        "#@title 4) Train/test split (time-based) and compare\n",
        "split = int(len(X_with_sent) * (1 - TEST_SPLIT_FRACTION))\n",
        "Xtr_p, Xte_p = X_price_only.iloc[:split], X_price_only.iloc[split:]\n",
        "Xtr_s, Xte_s = X_with_sent.iloc[:split], X_with_sent.iloc[split:]\n",
        "ytr, yte = y_next.iloc[:split], y_next.iloc[split:]\n",
        "\n",
        "def fit_eval(Xtr, Xte, ytr, yte, label):\n",
        "    pipe = Pipeline([\n",
        "        (\"scaler\", StandardScaler()),\n",
        "        (\"ridge\", Ridge(alpha=1.0, random_state=42))\n",
        "    ])\n",
        "    pipe.fit(Xtr, ytr)\n",
        "    yhat = pipe.predict(Xte)\n",
        "    rmse = mean_squared_error(yte, yhat, squared=False)\n",
        "    mae = mean_absolute_error(yte, yhat)\n",
        "    dacc = (np.sign(yhat) == np.sign(yte.values)).mean()\n",
        "    print(f\"{label} \u2192 RMSE={rmse:.6f}  MAE={mae:.6f}  DirAcc={dacc:.3f}\")\n",
        "    return pipe, yhat, {\"rmse\": float(rmse), \"mae\": float(mae), \"dir_acc\": float(dacc)}\n",
        "\n",
        "pipe_p, yhat_p, m_price = fit_eval(Xtr_p, Xte_p, ytr, yte, label=\"Ridge (price-only)\")\n",
        "pipe_s, yhat_s, m_sent  = fit_eval(Xtr_s, Xte_s, ytr, yte, label=\"Ridge (price+sentiment)\")"
      ]
    },
    {
      "cell_type": "code",
      "execution_count": null,
      "metadata": {
        "cellView": "form"
      },
      "source": [
        "#@title 5) Plot test predictions (price-only vs with sentiment)\n",
        "plt.figure()\n",
        "plt.plot(yte.index, yte.values, label='Actual')\n",
        "plt.plot(yte.index, yhat_p, label='Price-only')\n",
        "plt.plot(yte.index, yhat_s, label='Price+Sentiment')\n",
        "plt.title(f\"{TARGET_TICKER} \u2014 Test returns: adding sentiment\")\n",
        "plt.legend(); plt.xlabel('Date'); plt.ylabel('Daily return'); plt.show()"
      ]
    },
    {
      "cell_type": "code",
      "execution_count": null,
      "metadata": {
        "cellView": "form"
      },
      "source": [
        "#@title 6) Save sentiment-enhanced model and metadata\n",
        "sent_model_path = os.path.join(ART_DIR, f\"ridge_with_sent_{TARGET_TICKER}.joblib\")\n",
        "joblib.dump(pipe_s, sent_model_path)\n",
        "meta = {\n",
        "    \"ticker\": TARGET_TICKER,\n",
        "    \"lags\": int(LAGS),\n",
        "    \"features_price_only\": list(X_price_only.columns),\n",
        "    \"features_with_sent\": list(X_with_sent.columns),\n",
        "    \"metrics\": {\n",
        "        \"price_only\": m_price,\n",
        "        \"with_sent\": m_sent\n",
        "    }\n",
        "}\n",
        "with open(os.path.join(ART_DIR, f\"ridge_with_sent_{TARGET_TICKER}_meta.json\"), 'w') as f:\n",
        "    json.dump(meta, f, indent=2)\n",
        "print('Saved model \u2192', sent_model_path)\n",
        "print('Saved meta  \u2192', os.path.join(ART_DIR, f\"ridge_with_sent_{TARGET_TICKER}_meta.json\"))"
      ]
    }
  ],
  "metadata": {
    "colab": {
      "provenance": []
    },
    "kernelspec": {
      "display_name": "Python 3",
      "name": "python3"
    },
    "language_info": {
      "name": "python",
      "version": "3.10"
    }
  },
  "nbformat": 4,
  "nbformat_minor": 5
}